{
 "cells": [
  {
   "cell_type": "code",
   "execution_count": 1,
   "metadata": {},
   "outputs": [],
   "source": [
    "import os\n",
    "import torch\n",
    "import librosa\n",
    "import numpy as np\n",
    "import torch.nn as nn\n",
    "from torch.utils.data import Dataset, DataLoader\n",
    "from torchaudio import load\n",
    "from tqdm import tqdm\n",
    "from sklearn.metrics import roc_auc_score, roc_curve\n",
    "import torch.optim as optim"
   ]
  },
  {
   "cell_type": "code",
   "execution_count": 2,
   "metadata": {},
   "outputs": [],
   "source": [
    "# ! pip install wandb"
   ]
  },
  {
   "cell_type": "code",
   "execution_count": 3,
   "metadata": {},
   "outputs": [],
   "source": [
    "import wandb"
   ]
  },
  {
   "cell_type": "code",
   "execution_count": 4,
   "metadata": {},
   "outputs": [
    {
     "name": "stderr",
     "output_type": "stream",
     "text": [
      "Failed to detect the name of this notebook, you can set it manually with the WANDB_NOTEBOOK_NAME environment variable to enable code saving.\n"
     ]
    },
    {
     "name": "stderr",
     "output_type": "stream",
     "text": [
      "\u001b[34m\u001b[1mwandb\u001b[0m: Currently logged in as: \u001b[33mm23csa014\u001b[0m. Use \u001b[1m`wandb login --relogin`\u001b[0m to force relogin\n"
     ]
    },
    {
     "data": {
      "text/html": [
       "Tracking run with wandb version 0.16.6"
      ],
      "text/plain": [
       "<IPython.core.display.HTML object>"
      ]
     },
     "metadata": {},
     "output_type": "display_data"
    },
    {
     "data": {
      "text/html": [
       "Run data is saved locally in <code>/teamspace/studios/this_studio/wandb/run-20240502_181551-wza92hps</code>"
      ],
      "text/plain": [
       "<IPython.core.display.HTML object>"
      ]
     },
     "metadata": {},
     "output_type": "display_data"
    },
    {
     "data": {
      "text/html": [
       "Syncing run <strong><a href='https://wandb.ai/m23csa014/Speech%20Assignment%203/runs/wza92hps' target=\"_blank\">task 4</a></strong> to <a href='https://wandb.ai/m23csa014/Speech%20Assignment%203' target=\"_blank\">Weights & Biases</a> (<a href='https://wandb.me/run' target=\"_blank\">docs</a>)<br/>"
      ],
      "text/plain": [
       "<IPython.core.display.HTML object>"
      ]
     },
     "metadata": {},
     "output_type": "display_data"
    },
    {
     "data": {
      "text/html": [
       " View project at <a href='https://wandb.ai/m23csa014/Speech%20Assignment%203' target=\"_blank\">https://wandb.ai/m23csa014/Speech%20Assignment%203</a>"
      ],
      "text/plain": [
       "<IPython.core.display.HTML object>"
      ]
     },
     "metadata": {},
     "output_type": "display_data"
    },
    {
     "data": {
      "text/html": [
       " View run at <a href='https://wandb.ai/m23csa014/Speech%20Assignment%203/runs/wza92hps' target=\"_blank\">https://wandb.ai/m23csa014/Speech%20Assignment%203/runs/wza92hps</a>"
      ],
      "text/plain": [
       "<IPython.core.display.HTML object>"
      ]
     },
     "metadata": {},
     "output_type": "display_data"
    },
    {
     "data": {
      "text/html": [
       "<button onClick=\"this.nextSibling.style.display='block';this.style.display='none';\">Display W&B run</button><iframe src='https://wandb.ai/m23csa014/Speech%20Assignment%203/runs/wza92hps?jupyter=true' style='border:none;width:100%;height:420px;display:none;'></iframe>"
      ],
      "text/plain": [
       "<wandb.sdk.wandb_run.Run at 0x7fe08ca78490>"
      ]
     },
     "execution_count": 4,
     "metadata": {},
     "output_type": "execute_result"
    }
   ],
   "source": [
    "wandb.init(project=\"Speech Assignment 3\", entity=\"m23csa014\", name = \"task 4\")"
   ]
  },
  {
   "cell_type": "code",
   "execution_count": 5,
   "metadata": {},
   "outputs": [],
   "source": [
    "class AudioDataset(Dataset):\n",
    "    def __init__(self, root):\n",
    "        self.root = root\n",
    "        self.classes, self.class_to_idx = self._find_classes()\n",
    "        self.samples = self._make_dataset()\n",
    "\n",
    "    def _find_classes(self):\n",
    "        classes = [d.name for d in os.scandir(self.root) if d.is_dir()]\n",
    "        classes.sort()\n",
    "        class_to_idx = {cls_name: i for i, cls_name in enumerate(classes)}\n",
    "        return classes, class_to_idx\n",
    "\n",
    "    def _make_dataset(self):\n",
    "        samples = []\n",
    "        for target_class in self.classes:\n",
    "            class_index = self.class_to_idx[target_class]\n",
    "            target_dir = os.path.join(self.root, target_class)\n",
    "            for root_dir, _, file_names in os.walk(target_dir):\n",
    "                for file_name in file_names:\n",
    "                    if file_name.endswith('.wav') or file_name.endswith('.mp3') or file_name.endswith('.ogg'):\n",
    "                        file_path = os.path.join(root_dir, file_name)\n",
    "                        samples.append((file_path, class_index))\n",
    "        return samples\n",
    "\n",
    "    def __len__(self):\n",
    "        return len(self.samples)\n",
    "\n",
    "    def __getitem__(self, idx):\n",
    "        audio_path, class_index = self.samples[idx]\n",
    "        # Load the audio file and preprocess\n",
    "        waveform, _ = load(audio_path)\n",
    "        waveform = self._preprocess_audio(waveform)\n",
    "        return waveform, class_index\n",
    "\n",
    "    def _preprocess_audio(self, waveform):\n",
    "        waveform = waveform.numpy()[0]  # Convert tensor to numpy array\n",
    "        max_len = 64600\n",
    "        if waveform.shape[0] >= max_len:\n",
    "            return waveform[:max_len]\n",
    "        else:\n",
    "            num_repeats = int(max_len / waveform.shape[0]) + 1\n",
    "            padded_waveform = np.tile(waveform, (1, num_repeats))[:, :max_len][0]\n",
    "            return padded_waveform\n"
   ]
  },
  {
   "cell_type": "code",
   "execution_count": 6,
   "metadata": {},
   "outputs": [],
   "source": [
    "# Define the root directory where your data is stored\n",
    "root = \"/teamspace/studios/this_studio/SpeechAssign3/for-2seconds\"  # Replace this with the path to your data folder\n",
    "\n",
    "# Create datasets\n",
    "train_dataset = AudioDataset(root=os.path.join(root, \"training\"))\n",
    "test_dataset = AudioDataset(root=os.path.join(root, \"testing\"))\n",
    "validation_dataset = AudioDataset(root=os.path.join(root, \"validation\"))"
   ]
  },
  {
   "cell_type": "code",
   "execution_count": 7,
   "metadata": {},
   "outputs": [],
   "source": [
    "# Create data loaders\n",
    "train_loader = DataLoader(train_dataset, batch_size=16, shuffle=True, num_workers=6)\n",
    "test_loader = DataLoader(test_dataset, batch_size=16, shuffle=False, num_workers=4)\n",
    "validation_loader = DataLoader(validation_dataset, batch_size=16, shuffle=False, num_workers=6)"
   ]
  },
  {
   "cell_type": "code",
   "execution_count": 8,
   "metadata": {},
   "outputs": [
    {
     "name": "stderr",
     "output_type": "stream",
     "text": [
      "Training:   0%|          | 0/873 [00:00<?, ?it/s]"
     ]
    },
    {
     "name": "stdout",
     "output_type": "stream",
     "text": [
      "Batch: 0\n",
      "Data shape: torch.Size([16, 64600])\n",
      "Target shape: torch.Size([16])\n",
      "Data sample: tensor([ 0.2978,  0.3043,  0.2757,  ..., -0.1729, -0.2001, -0.2222])\n",
      "Target sample: tensor(1)\n"
     ]
    },
    {
     "name": "stderr",
     "output_type": "stream",
     "text": [
      "\n"
     ]
    }
   ],
   "source": [
    "# Iterate through the train_loader to inspect the data with tqdm progress bar\n",
    "for batch_idx, (data, target) in enumerate(tqdm(train_loader, desc=\"Training\")):\n",
    "    print(\"Batch:\", batch_idx)\n",
    "    print(\"Data shape:\", data.shape)  # Shape of the input data tensor\n",
    "    print(\"Target shape:\", target.shape)  # Shape of the target tensor\n",
    "    print(\"Data sample:\", data[0])  # Print the first data sample in the batch\n",
    "    print(\"Target sample:\", target[0])  # Print the target label of the first sample\n",
    "    break  # Break after printing the first batch to keep the output concise"
   ]
  },
  {
   "cell_type": "code",
   "execution_count": 9,
   "metadata": {},
   "outputs": [
    {
     "name": "stdout",
     "output_type": "stream",
     "text": [
      "Device: cuda\n"
     ]
    },
    {
     "name": "stderr",
     "output_type": "stream",
     "text": [
      "/home/zeus/miniconda3/envs/cloudspace/lib/python3.10/site-packages/torch/nn/utils/weight_norm.py:28: UserWarning: torch.nn.utils.weight_norm is deprecated in favor of torch.nn.utils.parametrizations.weight_norm.\n",
      "  warnings.warn(\"torch.nn.utils.weight_norm is deprecated in favor of torch.nn.utils.parametrizations.weight_norm.\")\n"
     ]
    },
    {
     "data": {
      "text/plain": [
       "DataParallel(\n",
       "  (module): Model(\n",
       "    (ssl_model): SSLModel(\n",
       "      (model): Wav2Vec2Model(\n",
       "        (feature_extractor): ConvFeatureExtractionModel(\n",
       "          (conv_layers): ModuleList(\n",
       "            (0): Sequential(\n",
       "              (0): Conv1d(1, 512, kernel_size=(10,), stride=(5,))\n",
       "              (1): Dropout(p=0.0, inplace=False)\n",
       "              (2): Sequential(\n",
       "                (0): TransposeLast()\n",
       "                (1): Fp32LayerNorm((512,), eps=1e-05, elementwise_affine=True)\n",
       "                (2): TransposeLast()\n",
       "              )\n",
       "              (3): GELU(approximate='none')\n",
       "            )\n",
       "            (1-4): 4 x Sequential(\n",
       "              (0): Conv1d(512, 512, kernel_size=(3,), stride=(2,))\n",
       "              (1): Dropout(p=0.0, inplace=False)\n",
       "              (2): Sequential(\n",
       "                (0): TransposeLast()\n",
       "                (1): Fp32LayerNorm((512,), eps=1e-05, elementwise_affine=True)\n",
       "                (2): TransposeLast()\n",
       "              )\n",
       "              (3): GELU(approximate='none')\n",
       "            )\n",
       "            (5-6): 2 x Sequential(\n",
       "              (0): Conv1d(512, 512, kernel_size=(2,), stride=(2,))\n",
       "              (1): Dropout(p=0.0, inplace=False)\n",
       "              (2): Sequential(\n",
       "                (0): TransposeLast()\n",
       "                (1): Fp32LayerNorm((512,), eps=1e-05, elementwise_affine=True)\n",
       "                (2): TransposeLast()\n",
       "              )\n",
       "              (3): GELU(approximate='none')\n",
       "            )\n",
       "          )\n",
       "        )\n",
       "        (post_extract_proj): Linear(in_features=512, out_features=1024, bias=True)\n",
       "        (dropout_input): Dropout(p=0.0, inplace=False)\n",
       "        (dropout_features): Dropout(p=0.0, inplace=False)\n",
       "        (quantizer): GumbelVectorQuantizer(\n",
       "          (weight_proj): Linear(in_features=512, out_features=640, bias=True)\n",
       "        )\n",
       "        (project_q): Linear(in_features=768, out_features=768, bias=True)\n",
       "        (encoder): TransformerEncoder(\n",
       "          (pos_conv): Sequential(\n",
       "            (0): Conv1d(1024, 1024, kernel_size=(128,), stride=(1,), padding=(64,), groups=16)\n",
       "            (1): SamePad()\n",
       "            (2): GELU(approximate='none')\n",
       "          )\n",
       "          (layers): ModuleList(\n",
       "            (0-23): 24 x TransformerSentenceEncoderLayer(\n",
       "              (self_attn): MultiheadAttention(\n",
       "                (dropout_module): FairseqDropout()\n",
       "                (k_proj): Linear(in_features=1024, out_features=1024, bias=True)\n",
       "                (v_proj): Linear(in_features=1024, out_features=1024, bias=True)\n",
       "                (q_proj): Linear(in_features=1024, out_features=1024, bias=True)\n",
       "                (out_proj): Linear(in_features=1024, out_features=1024, bias=True)\n",
       "              )\n",
       "              (dropout1): Dropout(p=0.0, inplace=False)\n",
       "              (dropout2): Dropout(p=0.0, inplace=False)\n",
       "              (dropout3): Dropout(p=0.0, inplace=False)\n",
       "              (self_attn_layer_norm): LayerNorm((1024,), eps=1e-05, elementwise_affine=True)\n",
       "              (fc1): Linear(in_features=1024, out_features=4096, bias=True)\n",
       "              (fc2): Linear(in_features=4096, out_features=1024, bias=True)\n",
       "              (final_layer_norm): LayerNorm((1024,), eps=1e-05, elementwise_affine=True)\n",
       "            )\n",
       "          )\n",
       "          (layer_norm): LayerNorm((1024,), eps=1e-05, elementwise_affine=True)\n",
       "        )\n",
       "        (layer_norm): LayerNorm((512,), eps=1e-05, elementwise_affine=True)\n",
       "        (final_proj): Linear(in_features=1024, out_features=768, bias=True)\n",
       "      )\n",
       "    )\n",
       "    (LL): Linear(in_features=1024, out_features=128, bias=True)\n",
       "    (first_bn): BatchNorm2d(1, eps=1e-05, momentum=0.1, affine=True, track_running_stats=True)\n",
       "    (first_bn1): BatchNorm2d(64, eps=1e-05, momentum=0.1, affine=True, track_running_stats=True)\n",
       "    (drop): Dropout(p=0.5, inplace=True)\n",
       "    (drop_way): Dropout(p=0.2, inplace=True)\n",
       "    (selu): SELU(inplace=True)\n",
       "    (encoder): Sequential(\n",
       "      (0): Sequential(\n",
       "        (0): Residual_block(\n",
       "          (conv1): Conv2d(1, 32, kernel_size=(2, 3), stride=(1, 1), padding=(1, 1))\n",
       "          (selu): SELU(inplace=True)\n",
       "          (bn2): BatchNorm2d(32, eps=1e-05, momentum=0.1, affine=True, track_running_stats=True)\n",
       "          (conv2): Conv2d(32, 32, kernel_size=(2, 3), stride=(1, 1), padding=(0, 1))\n",
       "          (conv_downsample): Conv2d(1, 32, kernel_size=(1, 3), stride=(1, 1), padding=(0, 1))\n",
       "        )\n",
       "      )\n",
       "      (1): Sequential(\n",
       "        (0): Residual_block(\n",
       "          (bn1): BatchNorm2d(32, eps=1e-05, momentum=0.1, affine=True, track_running_stats=True)\n",
       "          (conv1): Conv2d(32, 32, kernel_size=(2, 3), stride=(1, 1), padding=(1, 1))\n",
       "          (selu): SELU(inplace=True)\n",
       "          (bn2): BatchNorm2d(32, eps=1e-05, momentum=0.1, affine=True, track_running_stats=True)\n",
       "          (conv2): Conv2d(32, 32, kernel_size=(2, 3), stride=(1, 1), padding=(0, 1))\n",
       "        )\n",
       "      )\n",
       "      (2): Sequential(\n",
       "        (0): Residual_block(\n",
       "          (bn1): BatchNorm2d(32, eps=1e-05, momentum=0.1, affine=True, track_running_stats=True)\n",
       "          (conv1): Conv2d(32, 64, kernel_size=(2, 3), stride=(1, 1), padding=(1, 1))\n",
       "          (selu): SELU(inplace=True)\n",
       "          (bn2): BatchNorm2d(64, eps=1e-05, momentum=0.1, affine=True, track_running_stats=True)\n",
       "          (conv2): Conv2d(64, 64, kernel_size=(2, 3), stride=(1, 1), padding=(0, 1))\n",
       "          (conv_downsample): Conv2d(32, 64, kernel_size=(1, 3), stride=(1, 1), padding=(0, 1))\n",
       "        )\n",
       "      )\n",
       "      (3): Sequential(\n",
       "        (0): Residual_block(\n",
       "          (bn1): BatchNorm2d(64, eps=1e-05, momentum=0.1, affine=True, track_running_stats=True)\n",
       "          (conv1): Conv2d(64, 64, kernel_size=(2, 3), stride=(1, 1), padding=(1, 1))\n",
       "          (selu): SELU(inplace=True)\n",
       "          (bn2): BatchNorm2d(64, eps=1e-05, momentum=0.1, affine=True, track_running_stats=True)\n",
       "          (conv2): Conv2d(64, 64, kernel_size=(2, 3), stride=(1, 1), padding=(0, 1))\n",
       "        )\n",
       "      )\n",
       "      (4): Sequential(\n",
       "        (0): Residual_block(\n",
       "          (bn1): BatchNorm2d(64, eps=1e-05, momentum=0.1, affine=True, track_running_stats=True)\n",
       "          (conv1): Conv2d(64, 64, kernel_size=(2, 3), stride=(1, 1), padding=(1, 1))\n",
       "          (selu): SELU(inplace=True)\n",
       "          (bn2): BatchNorm2d(64, eps=1e-05, momentum=0.1, affine=True, track_running_stats=True)\n",
       "          (conv2): Conv2d(64, 64, kernel_size=(2, 3), stride=(1, 1), padding=(0, 1))\n",
       "        )\n",
       "      )\n",
       "      (5): Sequential(\n",
       "        (0): Residual_block(\n",
       "          (bn1): BatchNorm2d(64, eps=1e-05, momentum=0.1, affine=True, track_running_stats=True)\n",
       "          (conv1): Conv2d(64, 64, kernel_size=(2, 3), stride=(1, 1), padding=(1, 1))\n",
       "          (selu): SELU(inplace=True)\n",
       "          (bn2): BatchNorm2d(64, eps=1e-05, momentum=0.1, affine=True, track_running_stats=True)\n",
       "          (conv2): Conv2d(64, 64, kernel_size=(2, 3), stride=(1, 1), padding=(0, 1))\n",
       "        )\n",
       "      )\n",
       "    )\n",
       "    (attention): Sequential(\n",
       "      (0): Conv2d(64, 128, kernel_size=(1, 1), stride=(1, 1))\n",
       "      (1): SELU(inplace=True)\n",
       "      (2): BatchNorm2d(128, eps=1e-05, momentum=0.1, affine=True, track_running_stats=True)\n",
       "      (3): Conv2d(128, 64, kernel_size=(1, 1), stride=(1, 1))\n",
       "    )\n",
       "    (GAT_layer_S): GraphAttentionLayer(\n",
       "      (att_proj): Linear(in_features=64, out_features=64, bias=True)\n",
       "      (proj_with_att): Linear(in_features=64, out_features=64, bias=True)\n",
       "      (proj_without_att): Linear(in_features=64, out_features=64, bias=True)\n",
       "      (bn): BatchNorm1d(64, eps=1e-05, momentum=0.1, affine=True, track_running_stats=True)\n",
       "      (input_drop): Dropout(p=0.2, inplace=False)\n",
       "      (act): SELU(inplace=True)\n",
       "    )\n",
       "    (GAT_layer_T): GraphAttentionLayer(\n",
       "      (att_proj): Linear(in_features=64, out_features=64, bias=True)\n",
       "      (proj_with_att): Linear(in_features=64, out_features=64, bias=True)\n",
       "      (proj_without_att): Linear(in_features=64, out_features=64, bias=True)\n",
       "      (bn): BatchNorm1d(64, eps=1e-05, momentum=0.1, affine=True, track_running_stats=True)\n",
       "      (input_drop): Dropout(p=0.2, inplace=False)\n",
       "      (act): SELU(inplace=True)\n",
       "    )\n",
       "    (HtrgGAT_layer_ST11): HtrgGraphAttentionLayer(\n",
       "      (proj_type1): Linear(in_features=64, out_features=64, bias=True)\n",
       "      (proj_type2): Linear(in_features=64, out_features=64, bias=True)\n",
       "      (att_proj): Linear(in_features=64, out_features=32, bias=True)\n",
       "      (att_projM): Linear(in_features=64, out_features=32, bias=True)\n",
       "      (proj_with_att): Linear(in_features=64, out_features=32, bias=True)\n",
       "      (proj_without_att): Linear(in_features=64, out_features=32, bias=True)\n",
       "      (proj_with_attM): Linear(in_features=64, out_features=32, bias=True)\n",
       "      (proj_without_attM): Linear(in_features=64, out_features=32, bias=True)\n",
       "      (bn): BatchNorm1d(32, eps=1e-05, momentum=0.1, affine=True, track_running_stats=True)\n",
       "      (input_drop): Dropout(p=0.2, inplace=False)\n",
       "      (act): SELU(inplace=True)\n",
       "    )\n",
       "    (HtrgGAT_layer_ST12): HtrgGraphAttentionLayer(\n",
       "      (proj_type1): Linear(in_features=32, out_features=32, bias=True)\n",
       "      (proj_type2): Linear(in_features=32, out_features=32, bias=True)\n",
       "      (att_proj): Linear(in_features=32, out_features=32, bias=True)\n",
       "      (att_projM): Linear(in_features=32, out_features=32, bias=True)\n",
       "      (proj_with_att): Linear(in_features=32, out_features=32, bias=True)\n",
       "      (proj_without_att): Linear(in_features=32, out_features=32, bias=True)\n",
       "      (proj_with_attM): Linear(in_features=32, out_features=32, bias=True)\n",
       "      (proj_without_attM): Linear(in_features=32, out_features=32, bias=True)\n",
       "      (bn): BatchNorm1d(32, eps=1e-05, momentum=0.1, affine=True, track_running_stats=True)\n",
       "      (input_drop): Dropout(p=0.2, inplace=False)\n",
       "      (act): SELU(inplace=True)\n",
       "    )\n",
       "    (HtrgGAT_layer_ST21): HtrgGraphAttentionLayer(\n",
       "      (proj_type1): Linear(in_features=64, out_features=64, bias=True)\n",
       "      (proj_type2): Linear(in_features=64, out_features=64, bias=True)\n",
       "      (att_proj): Linear(in_features=64, out_features=32, bias=True)\n",
       "      (att_projM): Linear(in_features=64, out_features=32, bias=True)\n",
       "      (proj_with_att): Linear(in_features=64, out_features=32, bias=True)\n",
       "      (proj_without_att): Linear(in_features=64, out_features=32, bias=True)\n",
       "      (proj_with_attM): Linear(in_features=64, out_features=32, bias=True)\n",
       "      (proj_without_attM): Linear(in_features=64, out_features=32, bias=True)\n",
       "      (bn): BatchNorm1d(32, eps=1e-05, momentum=0.1, affine=True, track_running_stats=True)\n",
       "      (input_drop): Dropout(p=0.2, inplace=False)\n",
       "      (act): SELU(inplace=True)\n",
       "    )\n",
       "    (HtrgGAT_layer_ST22): HtrgGraphAttentionLayer(\n",
       "      (proj_type1): Linear(in_features=32, out_features=32, bias=True)\n",
       "      (proj_type2): Linear(in_features=32, out_features=32, bias=True)\n",
       "      (att_proj): Linear(in_features=32, out_features=32, bias=True)\n",
       "      (att_projM): Linear(in_features=32, out_features=32, bias=True)\n",
       "      (proj_with_att): Linear(in_features=32, out_features=32, bias=True)\n",
       "      (proj_without_att): Linear(in_features=32, out_features=32, bias=True)\n",
       "      (proj_with_attM): Linear(in_features=32, out_features=32, bias=True)\n",
       "      (proj_without_attM): Linear(in_features=32, out_features=32, bias=True)\n",
       "      (bn): BatchNorm1d(32, eps=1e-05, momentum=0.1, affine=True, track_running_stats=True)\n",
       "      (input_drop): Dropout(p=0.2, inplace=False)\n",
       "      (act): SELU(inplace=True)\n",
       "    )\n",
       "    (pool_S): GraphPool(\n",
       "      (sigmoid): Sigmoid()\n",
       "      (proj): Linear(in_features=64, out_features=1, bias=True)\n",
       "      (drop): Dropout(p=0.3, inplace=False)\n",
       "    )\n",
       "    (pool_T): GraphPool(\n",
       "      (sigmoid): Sigmoid()\n",
       "      (proj): Linear(in_features=64, out_features=1, bias=True)\n",
       "      (drop): Dropout(p=0.3, inplace=False)\n",
       "    )\n",
       "    (pool_hS1): GraphPool(\n",
       "      (sigmoid): Sigmoid()\n",
       "      (proj): Linear(in_features=32, out_features=1, bias=True)\n",
       "      (drop): Dropout(p=0.3, inplace=False)\n",
       "    )\n",
       "    (pool_hT1): GraphPool(\n",
       "      (sigmoid): Sigmoid()\n",
       "      (proj): Linear(in_features=32, out_features=1, bias=True)\n",
       "      (drop): Dropout(p=0.3, inplace=False)\n",
       "    )\n",
       "    (pool_hS2): GraphPool(\n",
       "      (sigmoid): Sigmoid()\n",
       "      (proj): Linear(in_features=32, out_features=1, bias=True)\n",
       "      (drop): Dropout(p=0.3, inplace=False)\n",
       "    )\n",
       "    (pool_hT2): GraphPool(\n",
       "      (sigmoid): Sigmoid()\n",
       "      (proj): Linear(in_features=32, out_features=1, bias=True)\n",
       "      (drop): Dropout(p=0.3, inplace=False)\n",
       "    )\n",
       "    (out_layer): Linear(in_features=160, out_features=2, bias=True)\n",
       "  )\n",
       ")"
      ]
     },
     "execution_count": 9,
     "metadata": {},
     "output_type": "execute_result"
    }
   ],
   "source": [
    "#GPU device\n",
    "device = 'cuda' if torch.cuda.is_available() else 'cpu'                  \n",
    "print('Device: {}'.format(device))\n",
    "\n",
    "# Load the SSL W2V model trained for LA and DF tracks\n",
    "from model import Model\n",
    "\n",
    "model = Model(None, device=device)\n",
    "model = nn.DataParallel(model).to(device)\n",
    "model.load_state_dict(torch.load('/teamspace/studios/this_studio/SpeechAssign3/Best_LA_model_for_DF.pth'))\n",
    "\n",
    "model.eval()"
   ]
  },
  {
   "cell_type": "code",
   "execution_count": 10,
   "metadata": {},
   "outputs": [],
   "source": [
    "torch.cuda.empty_cache()"
   ]
  },
  {
   "cell_type": "code",
   "execution_count": 11,
   "metadata": {},
   "outputs": [],
   "source": [
    "def train_epoch(train_loader, model, lr, optimizer, device):\n",
    "    running_loss = 0.0\n",
    "    num_total = 0.0\n",
    "    num_batches = len(train_loader)\n",
    "    \n",
    "    model.train()\n",
    "\n",
    "    # Set objective (Loss) functions\n",
    "    weight = torch.FloatTensor([0.1, 0.9]).to(device)\n",
    "    criterion = nn.CrossEntropyLoss(weight=weight)\n",
    "    \n",
    "    # Initialize tqdm with the length of the train_loader\n",
    "    progress_bar = tqdm(train_loader, desc='Training', leave=False)\n",
    "    \n",
    "    for batch_x, batch_y in progress_bar:\n",
    "        batch_size = batch_x.size(0)\n",
    "        num_total += batch_size\n",
    "        \n",
    "        batch_x = batch_x.to(device)\n",
    "        batch_y = batch_y.view(-1).type(torch.int64).to(device)\n",
    "        \n",
    "        optimizer.zero_grad()\n",
    "        \n",
    "        # Forward pass\n",
    "        batch_out = model(batch_x)\n",
    "        \n",
    "        # Compute loss\n",
    "        batch_loss = criterion(batch_out, batch_y)\n",
    "        \n",
    "        running_loss += batch_loss.item() * batch_size\n",
    "        \n",
    "        # Backward pass and optimization\n",
    "        batch_loss.backward()\n",
    "        optimizer.step()\n",
    "        \n",
    "        # Update progress bar\n",
    "        progress_bar.set_postfix(loss=running_loss / num_batches)\n",
    "    \n",
    "    progress_bar.close()\n",
    "    \n",
    "    # Compute average loss\n",
    "    running_loss /= len(train_loader.dataset)\n",
    "\n",
    "    wandb.log({\"train_loss\": running_loss})\n",
    "    \n",
    "    return running_loss\n"
   ]
  },
  {
   "cell_type": "code",
   "execution_count": 12,
   "metadata": {},
   "outputs": [],
   "source": [
    "def validate(val_loader, model, device):\n",
    "    running_loss = 0.0\n",
    "    num_total = 0.0\n",
    "    num_batches = len(val_loader)\n",
    "    \n",
    "    model.eval()\n",
    "\n",
    "    # Set objective (Loss) functions\n",
    "    weight = torch.FloatTensor([0.1, 0.9]).to(device)\n",
    "    criterion = nn.CrossEntropyLoss(weight=weight)\n",
    "    \n",
    "    # Initialize tqdm with the length of the val_loader\n",
    "    progress_bar = tqdm(val_loader, desc='Validation', leave=False)\n",
    "    \n",
    "    with torch.no_grad():\n",
    "        for batch_x, batch_y in progress_bar:\n",
    "            batch_size = batch_x.size(0)\n",
    "            num_total += batch_size\n",
    "            \n",
    "            batch_x = batch_x.to(device)\n",
    "            batch_y = batch_y.view(-1).type(torch.int64).to(device)\n",
    "            \n",
    "            # Forward pass\n",
    "            batch_out = model(batch_x)\n",
    "            \n",
    "            # Compute loss\n",
    "            batch_loss = criterion(batch_out, batch_y)\n",
    "            \n",
    "            running_loss += batch_loss.item() * batch_size\n",
    "            \n",
    "            # Update progress bar\n",
    "            progress_bar.set_postfix(loss=running_loss / num_batches)\n",
    "    \n",
    "    progress_bar.close()\n",
    "    \n",
    "    # Compute average loss\n",
    "    running_loss /= len(val_loader.dataset)\n",
    "    \n",
    "    # Log validation loss to wandb\n",
    "    wandb.log({\"val_loss\": running_loss})\n",
    "    \n",
    "    return running_loss"
   ]
  },
  {
   "cell_type": "code",
   "execution_count": 13,
   "metadata": {},
   "outputs": [
    {
     "name": "stderr",
     "output_type": "stream",
     "text": [
      "Training:   0%|          | 0/873 [00:00<?, ?it/s]"
     ]
    },
    {
     "name": "stderr",
     "output_type": "stream",
     "text": [
      "                                                                          \r"
     ]
    },
    {
     "name": "stdout",
     "output_type": "stream",
     "text": [
      "Epoch [1/10], Train Loss: 0.0421, Val Loss: 0.0059\n"
     ]
    },
    {
     "name": "stderr",
     "output_type": "stream",
     "text": [
      "                                                                          \r"
     ]
    },
    {
     "name": "stdout",
     "output_type": "stream",
     "text": [
      "Epoch [2/10], Train Loss: 0.0228, Val Loss: 0.0047\n"
     ]
    },
    {
     "name": "stderr",
     "output_type": "stream",
     "text": [
      "                                                                          \r"
     ]
    },
    {
     "name": "stdout",
     "output_type": "stream",
     "text": [
      "Epoch [3/10], Train Loss: 0.0094, Val Loss: 0.0049\n"
     ]
    },
    {
     "name": "stderr",
     "output_type": "stream",
     "text": [
      "                                                                          \r"
     ]
    },
    {
     "name": "stdout",
     "output_type": "stream",
     "text": [
      "Epoch [4/10], Train Loss: 0.0081, Val Loss: 0.0039\n"
     ]
    },
    {
     "name": "stderr",
     "output_type": "stream",
     "text": [
      "                                                                          \r"
     ]
    },
    {
     "name": "stdout",
     "output_type": "stream",
     "text": [
      "Epoch [5/10], Train Loss: 0.0093, Val Loss: 0.0030\n"
     ]
    },
    {
     "name": "stderr",
     "output_type": "stream",
     "text": [
      "Training:   8%|▊         | 66/873 [01:15<15:48,  1.18s/it, loss=0.0235]  wandb: ERROR Error while calling W&B API: context deadline exceeded (<Response [500]>)\n",
      "                                                                          \r"
     ]
    },
    {
     "name": "stdout",
     "output_type": "stream",
     "text": [
      "Epoch [6/10], Train Loss: 0.0068, Val Loss: 0.0026\n"
     ]
    },
    {
     "name": "stderr",
     "output_type": "stream",
     "text": [
      "                                                                          \r"
     ]
    },
    {
     "name": "stdout",
     "output_type": "stream",
     "text": [
      "Epoch [7/10], Train Loss: 0.0055, Val Loss: 0.0040\n"
     ]
    },
    {
     "name": "stderr",
     "output_type": "stream",
     "text": [
      "                                                                          \r"
     ]
    },
    {
     "name": "stdout",
     "output_type": "stream",
     "text": [
      "Epoch [8/10], Train Loss: 0.0111, Val Loss: 0.0037\n"
     ]
    },
    {
     "name": "stderr",
     "output_type": "stream",
     "text": [
      "                                                                          \r"
     ]
    },
    {
     "name": "stdout",
     "output_type": "stream",
     "text": [
      "Epoch [9/10], Train Loss: 0.0003, Val Loss: 0.0039\n"
     ]
    },
    {
     "name": "stderr",
     "output_type": "stream",
     "text": [
      "                                                                          "
     ]
    },
    {
     "name": "stdout",
     "output_type": "stream",
     "text": [
      "Epoch [10/10], Train Loss: 0.0054, Val Loss: 0.0063\n"
     ]
    },
    {
     "name": "stderr",
     "output_type": "stream",
     "text": [
      "\r"
     ]
    }
   ],
   "source": [
    "lr = 5e-5\n",
    "\n",
    "# Define the optimizer\n",
    "optimizer = optim.Adam(model.parameters(), lr=lr)\n",
    "\n",
    "# Number of epochs\n",
    "num_epochs = 10\n",
    "\n",
    "# Training loop\n",
    "for epoch in range(num_epochs):\n",
    "    # Run training epoch\n",
    "    train_loss = train_epoch(train_loader, model, lr, optimizer, device)\n",
    "    \n",
    "    # Run validation epoch\n",
    "    val_loss = validate(validation_loader, model, device)\n",
    "    \n",
    "    # Print training and validation losses for each epoch\n",
    "    print(f\"Epoch [{epoch+1}/{num_epochs}], Train Loss: {train_loss:.4f}, Val Loss: {val_loss:.4f}\")"
   ]
  },
  {
   "cell_type": "code",
   "execution_count": 14,
   "metadata": {},
   "outputs": [],
   "source": [
    "# Save the final model\n",
    "torch.save(model.state_dict(), \"final_model.pth\")"
   ]
  },
  {
   "cell_type": "code",
   "execution_count": 15,
   "metadata": {},
   "outputs": [],
   "source": [
    "import os\n",
    "\n",
    "# Assuming you have a trained model named 'model'\n",
    "\n",
    "# Define the directory path where you want to save the model\n",
    "save_dir = \"/teamspace/studios/this_studio/SpeechAssign3\"\n",
    "\n",
    "# Create the directory if it doesn't exist\n",
    "os.makedirs(save_dir, exist_ok=True)\n",
    "\n",
    "# Save the model\n",
    "torch.save(model.state_dict(), os.path.join(save_dir, \"model.pth\"))"
   ]
  },
  {
   "cell_type": "code",
   "execution_count": 17,
   "metadata": {},
   "outputs": [],
   "source": [
    "import os\n",
    "\n",
    "# Assuming you have a trained model named 'model'\n",
    "\n",
    "# Define the directory path where you want to save the model\n",
    "save_dir = \"/teamspace/studios/this_studio/SpeechAssign3/SpeechAssign/SSL_Anti-spoofing\"\n",
    "\n",
    "# Create the directory if it doesn't exist\n",
    "os.makedirs(save_dir, exist_ok=True)\n",
    "\n",
    "# Save the model\n",
    "torch.save(model.state_dict(), os.path.join(save_dir, \"final_model.pth\"))"
   ]
  },
  {
   "cell_type": "code",
   "execution_count": 16,
   "metadata": {},
   "outputs": [
    {
     "name": "stderr",
     "output_type": "stream",
     "text": [
      "Testing:   0%|          | 0/68 [00:00<?, ?it/s]\n"
     ]
    },
    {
     "ename": "RuntimeError",
     "evalue": "a Tensor with 32 elements cannot be converted to Scalar",
     "output_type": "error",
     "traceback": [
      "\u001b[0;31m---------------------------------------------------------------------------\u001b[0m",
      "\u001b[0;31mRuntimeError\u001b[0m                              Traceback (most recent call last)",
      "Cell \u001b[0;32mIn[16], line 21\u001b[0m\n\u001b[1;32m     18\u001b[0m     \u001b[38;5;28;01mfor\u001b[39;00m data, target \u001b[38;5;129;01min\u001b[39;00m tqdm(test_loader, desc\u001b[38;5;241m=\u001b[39m\u001b[38;5;124m\"\u001b[39m\u001b[38;5;124mTesting\u001b[39m\u001b[38;5;124m\"\u001b[39m):\n\u001b[1;32m     19\u001b[0m         \u001b[38;5;66;03m# Assuming your model outputs probabilities or scores\u001b[39;00m\n\u001b[1;32m     20\u001b[0m         output \u001b[38;5;241m=\u001b[39m model(data)\n\u001b[0;32m---> 21\u001b[0m         predicted_scores\u001b[38;5;241m.\u001b[39mappend(\u001b[43moutput\u001b[49m\u001b[38;5;241;43m.\u001b[39;49m\u001b[43mitem\u001b[49m\u001b[43m(\u001b[49m\u001b[43m)\u001b[49m)  \u001b[38;5;66;03m# Assuming output is a scalar, adjust accordingly\u001b[39;00m\n\u001b[1;32m     22\u001b[0m         true_labels\u001b[38;5;241m.\u001b[39mappend(target\u001b[38;5;241m.\u001b[39mitem())  \u001b[38;5;66;03m# Assuming target is a scalar, adjust accordingly\u001b[39;00m\n\u001b[1;32m     24\u001b[0m \u001b[38;5;66;03m# Convert lists to numpy arrays\u001b[39;00m\n",
      "\u001b[0;31mRuntimeError\u001b[0m: a Tensor with 32 elements cannot be converted to Scalar"
     ]
    }
   ],
   "source": [
    "from sklearn.metrics import roc_auc_score\n",
    "from scipy.optimize import brentq\n",
    "from scipy.interpolate import interp1d\n",
    "from sklearn.metrics import roc_curve\n",
    "import numpy as np\n",
    "\n",
    "# Assuming you have a trained model named 'model' and you want to evaluate it on the test dataset using the provided test_loader\n",
    "\n",
    "# Lists to store true labels and predicted scores\n",
    "true_labels = []\n",
    "predicted_scores = []\n",
    "\n",
    "# Set the model to evaluation mode\n",
    "model.eval()\n",
    "\n",
    "# Iterate through the test_loader to get true labels and predicted scores\n",
    "with torch.no_grad():\n",
    "    for data, target in tqdm(test_loader, desc=\"Testing\"):\n",
    "        # Assuming your model outputs probabilities or scores\n",
    "        output = model(data)\n",
    "        predicted_scores.append(output.item())  # Assuming output is a scalar, adjust accordingly\n",
    "        true_labels.append(target.item())  # Assuming target is a scalar, adjust accordingly\n",
    "\n",
    "# Convert lists to numpy arrays\n",
    "true_labels = np.array(true_labels)\n",
    "predicted_scores = np.array(predicted_scores)\n",
    "\n",
    "# Calculate AUC\n",
    "auc_score = roc_auc_score(true_labels, predicted_scores)\n",
    "\n",
    "# Calculate EER\n",
    "fpr, tpr, thresholds = roc_curve(true_labels, predicted_scores, pos_label=1)\n",
    "eer = brentq(lambda x : 1. - x - interp1d(fpr, tpr)(x), 0., 1.)\n",
    "threshold = interp1d(fpr, thresholds)(eer)\n",
    "\n",
    "print(\"AUC:\", auc_score)\n",
    "print(\"EER:\", eer)\n",
    "print(\"Threshold at EER:\", threshold)\n"
   ]
  }
 ],
 "metadata": {
  "kernelspec": {
   "display_name": "speech",
   "language": "python",
   "name": "python3"
  },
  "language_info": {
   "codemirror_mode": {
    "name": "ipython",
    "version": 3
   },
   "file_extension": ".py",
   "mimetype": "text/x-python",
   "name": "python",
   "nbconvert_exporter": "python",
   "pygments_lexer": "ipython3",
   "version": "3.10.10"
  }
 },
 "nbformat": 4,
 "nbformat_minor": 2
}
